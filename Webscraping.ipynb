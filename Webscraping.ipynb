{
 "cells": [
  {
   "cell_type": "code",
   "execution_count": 2,
   "id": "b61d9516",
   "metadata": {},
   "outputs": [],
   "source": [
    "import pandas as pd\n",
    "import requests\n",
    "import time\n",
    "import datetime\n",
    "from bs4 import BeautifulSoup\n",
    "import smtplib"
   ]
  },
  {
   "cell_type": "code",
   "execution_count": 171,
   "id": "41faf4af",
   "metadata": {},
   "outputs": [
    {
     "name": "stdout",
     "output_type": "stream",
     "text": [
      "Bitcoin\n",
      "$47783.88\n"
     ]
    }
   ],
   "source": [
    "# Connection to Website\n",
    "\n",
    "URL = 'https://www.livecoinwatch.com'\n",
    "headers = {\"User-Agent\": \"Mozilla/5.0 (Windows NT 10.0; Win64; x64) AppleWebKit/537.36 (KHTML, like Gecko) Chrome/96.0.4664.45 Safari/537.36\"}\n",
    "\n",
    "page = requests.get(URL,headers=headers)\n",
    "\n",
    "soup1 = BeautifulSoup(page.content,\"html.parser\")\n",
    "\n",
    "#soup2 = BeautifulSoup(soup1.prettify(),\"html.parser\")\n",
    "\n",
    "Crypto = soup1.find(class_=\"abr text-truncate\").get_text()\n",
    "\n",
    "price = soup1.find(class_=\"filter-item table-item main-price\").get_text()\n",
    "\n",
    "\n",
    "print(Crypto)\n",
    "print(price)"
   ]
  },
  {
   "cell_type": "code",
   "execution_count": 172,
   "id": "318a916a",
   "metadata": {},
   "outputs": [
    {
     "name": "stdout",
     "output_type": "stream",
     "text": [
      "Bitcoin\n",
      "47783.88\n"
     ]
    }
   ],
   "source": [
    "# Clean up the data a little bit\n",
    "\n",
    "price = price.strip()[1:]\n",
    "print(Crypto)\n",
    "print(price)"
   ]
  },
  {
   "cell_type": "code",
   "execution_count": 165,
   "id": "599f159f",
   "metadata": {},
   "outputs": [
    {
     "name": "stdout",
     "output_type": "stream",
     "text": [
      "2021-12-04 12:59:30.162727\n"
     ]
    }
   ],
   "source": [
    "# Create a Timestamp for your output to track when data was collected\n",
    "\n",
    "import datetime\n",
    "\n",
    "today = datetime.datetime.now()\n",
    "\n",
    "print(today)"
   ]
  },
  {
   "cell_type": "code",
   "execution_count": 194,
   "id": "7441e058",
   "metadata": {},
   "outputs": [],
   "source": [
    "# Create CSV and write header and input data\n",
    "\n",
    "import csv\n",
    "\n",
    "header = ['Crypto','Price','Timestamp']\n",
    "data1 = [Crypto,price,today]\n",
    "\n",
    "with open('BTCprice.csv','w',newline='',encoding='UTF8') as f:\n",
    "    writer = csv.writer(f)\n",
    "    writer.writerow(header)\n",
    "    writer.writerow(data1)\n"
   ]
  },
  {
   "cell_type": "code",
   "execution_count": 195,
   "id": "13ccf98d",
   "metadata": {},
   "outputs": [
    {
     "name": "stdout",
     "output_type": "stream",
     "text": [
      "    Crypto     Price                   Timestamp\n",
      "0  Bitcoin  47783.88  2021-12-04 13:12:53.332891\n"
     ]
    }
   ],
   "source": [
    "import pandas as pd\n",
    "\n",
    "df = pd.read_csv(r'C:\\Users\\Ujjaval\\Untitled Folder\\BTCprice.csv')\n",
    "\n",
    "print(df)"
   ]
  },
  {
   "cell_type": "code",
   "execution_count": 176,
   "id": "5b4b3d13",
   "metadata": {},
   "outputs": [
    {
     "name": "stdout",
     "output_type": "stream",
     "text": [
      "    Crypto     Price                   Timestamp\n",
      "0  Bitcoin  47783.88  2021-12-04 12:59:30.162727\n"
     ]
    }
   ],
   "source": [
    "with open('BTCprice.csv','a+',newline='',encoding='UTF8') as f:\n",
    "    writer = csv.writer(f)\n",
    "    writer.writerow(data1)\n",
    "    \n",
    "    \n",
    "    df = pd.read_csv(r'C:\\Users\\Ujjaval\\Untitled Folder\\BTCprice.csv')\n",
    "\n",
    "print(df)"
   ]
  },
  {
   "cell_type": "code",
   "execution_count": 3,
   "id": "634f7b85",
   "metadata": {},
   "outputs": [],
   "source": [
    "# Create Function To Automate-Combine all code\n",
    "\n",
    "# def crypto_price():\n",
    "def check_price():    \n",
    "    URL = 'https://www.livecoinwatch.com'\n",
    "    headers = {\"User-Agent\": \"Mozilla/5.0 (Windows NT 10.0; Win64; x64) AppleWebKit/537.36 (KHTML, like Gecko) Chrome/96.0.4664.45 Safari/537.36\"}\n",
    "\n",
    "    page = requests.get(URL,headers=headers)\n",
    "\n",
    "    soup1 = BeautifulSoup(page.content,\"html.parser\")\n",
    "\n",
    "    #soup2 = BeautifulSoup(soup1.prettify(),\"html.parser\")\n",
    "\n",
    "    Crypto1 = soup1.find(class_=\"abr text-truncate\").get_text()\n",
    "\n",
    "    price1 = soup1.find(class_=\"filter-item table-item main-price\").get_text()\n",
    "\n",
    "    price1 = price1.strip()[1:]\n",
    "    import datetime\n",
    "    today = datetime.datetime.now()\n",
    "    import csv\n",
    "    header = ['Crypto','Price','Timestamp']\n",
    "    data1 = [Crypto1,price1,today]\n",
    "\n",
    "    with open('BTCprice.csv','a+',newline='',encoding='UTF8') as f:\n",
    "        writer = csv.writer(f)\n",
    "        writer.writerow(data1)\n",
    "\n",
    "    \n",
    "    \n"
   ]
  },
  {
   "cell_type": "code",
   "execution_count": 4,
   "id": "a2969faa",
   "metadata": {},
   "outputs": [
    {
     "ename": "KeyboardInterrupt",
     "evalue": "",
     "output_type": "error",
     "traceback": [
      "\u001b[1;31m---------------------------------------------------------------------------\u001b[0m",
      "\u001b[1;31mKeyboardInterrupt\u001b[0m                         Traceback (most recent call last)",
      "\u001b[1;32m<ipython-input-4-9d49b55d09d0>\u001b[0m in \u001b[0;36m<module>\u001b[1;34m\u001b[0m\n\u001b[0;32m      1\u001b[0m \u001b[1;32mwhile\u001b[0m\u001b[1;33m(\u001b[0m\u001b[1;32mTrue\u001b[0m\u001b[1;33m)\u001b[0m\u001b[1;33m:\u001b[0m\u001b[1;33m\u001b[0m\u001b[1;33m\u001b[0m\u001b[0m\n\u001b[0;32m      2\u001b[0m     \u001b[0mcheck_price\u001b[0m\u001b[1;33m(\u001b[0m\u001b[1;33m)\u001b[0m\u001b[1;33m\u001b[0m\u001b[1;33m\u001b[0m\u001b[0m\n\u001b[1;32m----> 3\u001b[1;33m     \u001b[0mtime\u001b[0m\u001b[1;33m.\u001b[0m\u001b[0msleep\u001b[0m\u001b[1;33m(\u001b[0m\u001b[1;36m5\u001b[0m\u001b[1;33m)\u001b[0m\u001b[1;33m\u001b[0m\u001b[1;33m\u001b[0m\u001b[0m\n\u001b[0m",
      "\u001b[1;31mKeyboardInterrupt\u001b[0m: "
     ]
    }
   ],
   "source": [
    "while(True):\n",
    "    check_price()\n",
    "    time.sleep(5)"
   ]
  },
  {
   "cell_type": "code",
   "execution_count": 5,
   "id": "8659b5be",
   "metadata": {},
   "outputs": [
    {
     "name": "stdout",
     "output_type": "stream",
     "text": [
      "     Crypto     Price                   Timestamp\n",
      "0   Bitcoin  47783.88  2021-12-04 13:12:53.332891\n",
      "1   Bitcoin  47137.60  2021-12-04 13:18:09.802398\n",
      "2   Bitcoin  47130.02  2021-12-04 13:18:16.581641\n",
      "3   Bitcoin  47130.95  2021-12-04 13:18:23.045334\n",
      "4   Bitcoin  47127.76  2021-12-04 13:18:29.644536\n",
      "5   Bitcoin  47152.20  2021-12-04 13:19:06.333754\n",
      "6   Bitcoin  47194.26  2021-12-04 13:19:12.807877\n",
      "7   Bitcoin  47196.55  2021-12-04 13:19:19.387866\n",
      "8   Bitcoin  47183.48  2021-12-04 13:19:26.132577\n",
      "9   Bitcoin  46752.82  2021-12-04 17:17:10.949435\n",
      "10  Bitcoin  46760.00  2021-12-04 17:17:17.934832\n",
      "11  Bitcoin  46761.26  2021-12-04 17:17:24.698102\n",
      "12  Bitcoin  46766.02  2021-12-04 17:17:31.433105\n",
      "13  Bitcoin  46768.68  2021-12-04 17:17:38.218898\n",
      "14  Bitcoin  46769.39  2021-12-04 17:17:44.871344\n"
     ]
    }
   ],
   "source": [
    "df = pd.read_csv(r'C:\\Users\\Ujjaval\\Untitled Folder\\BTCprice.csv')\n",
    "print (df)"
   ]
  },
  {
   "cell_type": "code",
   "execution_count": null,
   "id": "96c8aab7",
   "metadata": {},
   "outputs": [],
   "source": []
  }
 ],
 "metadata": {
  "kernelspec": {
   "display_name": "Python 3",
   "language": "python",
   "name": "python3"
  },
  "language_info": {
   "codemirror_mode": {
    "name": "ipython",
    "version": 3
   },
   "file_extension": ".py",
   "mimetype": "text/x-python",
   "name": "python",
   "nbconvert_exporter": "python",
   "pygments_lexer": "ipython3",
   "version": "3.8.8"
  }
 },
 "nbformat": 4,
 "nbformat_minor": 5
}
